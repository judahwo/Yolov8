{
 "cells": [
  {
   "cell_type": "markdown",
   "metadata": {},
   "source": [
    "# **YOLOv8 Rust Detection Model**\n",
    "\n",
    "This model follows the same basic format of the crack detection model. See crack detection model for code comments and explainations.  While the model does train, it is trained on a much smaller dataset than the crack detector. Each individual image in the dataset is also more complex. As a result, using the same method and interations in training yields a significantly less accurate model. The model does run and work, but it is far less accurate than the crack detector. However, it is proof of concenpt and could be further developed/optimized for future scale up and commercial implementation. "
   ]
  },
  {
   "cell_type": "code",
   "execution_count": 1,
   "metadata": {},
   "outputs": [
    {
     "name": "stderr",
     "output_type": "stream",
     "text": [
      "Ultralytics YOLOv8.0.196  Python-3.10.11 torch-2.0.1+cu117 CUDA:0 (NVIDIA GeForce RTX 4070 Ti, 12282MiB)\n",
      "Setup complete  (12 CPUs, 63.7 GB RAM, 950.4/1862.3 GB disk)\n"
     ]
    }
   ],
   "source": [
    "# %pip install ultralytics==8.0.196\n",
    "\n",
    "# Imports\n",
    "from IPython import display\n",
    "display.clear_output()\n",
    "\n",
    "import ultralytics\n",
    "ultralytics.checks()"
   ]
  },
  {
   "cell_type": "code",
   "execution_count": 2,
   "metadata": {},
   "outputs": [],
   "source": [
    "from ultralytics import YOLO\n",
    "\n",
    "from IPython.display import display, Image"
   ]
  },
  {
   "cell_type": "code",
   "execution_count": 3,
   "metadata": {},
   "outputs": [
    {
     "name": "stdout",
     "output_type": "stream",
     "text": [
      "loading Roboflow workspace...\n",
      "loading Roboflow project...\n"
     ]
    },
    {
     "name": "stderr",
     "output_type": "stream",
     "text": [
      "Downloading Dataset Version Zip in rust_detection-1 to yolov8-obb:: 100%|██████████| 27602/27602 [00:00<00:00, 39901.27it/s]"
     ]
    },
    {
     "name": "stdout",
     "output_type": "stream",
     "text": [
      "\n"
     ]
    },
    {
     "name": "stderr",
     "output_type": "stream",
     "text": [
      "\n",
      "Extracting Dataset Version Zip to rust_detection-1 in yolov8-obb:: 100%|██████████| 1166/1166 [00:00<00:00, 3543.60it/s]\n"
     ]
    }
   ],
   "source": [
    "from roboflow import Roboflow\n",
    "rf = Roboflow(api_key=\"I7TvMqoU2PXUBlvTFsKE\")\n",
    "project = rf.workspace(\"rust-rs7xg\").project(\"rust_detection-z0b0c\")\n",
    "version = project.version(1)\n",
    "dataset = version.download(\"yolov8-obb\")"
   ]
  },
  {
   "cell_type": "code",
   "execution_count": 4,
   "metadata": {},
   "outputs": [
    {
     "name": "stdout",
     "output_type": "stream",
     "text": [
      "^C\n"
     ]
    }
   ],
   "source": [
    "!yolo task=detect mode=train model=yolov8s.pt data=\"C:\\\\Users\\\\Marcus\\\\Desktop\\\\Share Folder\\\\Yolov8\\\\crack-2\\\\data.yaml\" epochs=30 imgsz=800 plots=True"
   ]
  },
  {
   "cell_type": "code",
   "execution_count": null,
   "metadata": {},
   "outputs": [],
   "source": []
  }
 ],
 "metadata": {
  "kernelspec": {
   "display_name": "myenv",
   "language": "python",
   "name": "python3"
  },
  "language_info": {
   "codemirror_mode": {
    "name": "ipython",
    "version": 3
   },
   "file_extension": ".py",
   "mimetype": "text/x-python",
   "name": "python",
   "nbconvert_exporter": "python",
   "pygments_lexer": "ipython3",
   "version": "3.10.11"
  }
 },
 "nbformat": 4,
 "nbformat_minor": 2
}
